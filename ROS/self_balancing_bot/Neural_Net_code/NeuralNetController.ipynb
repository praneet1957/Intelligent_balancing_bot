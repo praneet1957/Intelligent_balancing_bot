{
  "nbformat": 4,
  "nbformat_minor": 0,
  "metadata": {
    "colab": {
      "name": "NeuralNetController.ipynb",
      "provenance": [],
      "collapsed_sections": []
    },
    "kernelspec": {
      "name": "python3",
      "display_name": "Python 3"
    },
    "language_info": {
      "name": "python"
    }
  },
  "cells": [
    {
      "cell_type": "code",
      "execution_count": null,
      "metadata": {
        "id": "v_GiLbrkph5B"
      },
      "outputs": [],
      "source": [
        "import tensorflow as tf\n",
        "from tensorflow import keras\n",
        "import numpy as np\n"
      ]
    },
    {
      "cell_type": "code",
      "source": [
        "from google.colab import drive\n",
        "drive.mount('/content/drive')\n",
        "\n",
        "\n"
      ],
      "metadata": {
        "id": "JGhkx7I6sFZu",
        "colab": {
          "base_uri": "https://localhost:8080/"
        },
        "outputId": "bec9453f-b156-4eb2-abb4-7a2b99f103bd"
      },
      "execution_count": null,
      "outputs": [
        {
          "output_type": "stream",
          "name": "stdout",
          "text": [
            "Mounted at /content/drive\n"
          ]
        }
      ]
    },
    {
      "cell_type": "code",
      "source": [
        "file = open(\"/content/drive/MyDrive/My_file5.txt\" , \"r\")"
      ],
      "metadata": {
        "id": "5ASe8QWSstFf"
      },
      "execution_count": null,
      "outputs": []
    },
    {
      "cell_type": "code",
      "source": [
        "pid = []\n",
        "angle = []\n",
        "gyro = []\n",
        "\n",
        "\n",
        "\n",
        "\n",
        "for line in file:\n",
        "  data = line.split(\" \")\n",
        "  pid.append(float(data[0]))\n",
        "  angle.append(float(data[1]))\n",
        "  gyro.append(float(data[2]))\n",
        "  \n",
        "\n",
        "N = len(pid)"
      ],
      "metadata": {
        "id": "MIAXcrVBuIxq"
      },
      "execution_count": null,
      "outputs": []
    },
    {
      "cell_type": "code",
      "source": [
        "train_x = [angle[:int(N*0.8)] , gyro[:int(N*0.8)]]\n",
        "test_x = [angle[int(N*0.8):N-1], gyro[int(N*0.8):N-1]]\n",
        "val_x = [angle[int(N*0.8):N-1], gyro[int(N*0.8):N-1]]\n",
        "\n",
        "train_x = np.transpose(train_x)\n",
        "test_x = np.transpose(test_x)\n",
        "val_x = np.transpose(val_x)\n",
        "\n",
        "\n",
        "train_y = np.transpose([pid[:int(N*0.8)]])\n",
        "test_y = np.transpose([pid[int(N*0.8):N-1]])\n",
        "val_y = np.transpose([pid[int(N*0.8):N-1]])\n",
        "\n",
        "\n",
        "\n"
      ],
      "metadata": {
        "id": "pRpG7O_zupYI"
      },
      "execution_count": null,
      "outputs": []
    },
    {
      "cell_type": "code",
      "source": [
        "np.shape(train_x)"
      ],
      "metadata": {
        "id": "XUM62DY_OVTA",
        "colab": {
          "base_uri": "https://localhost:8080/"
        },
        "outputId": "36d6eaf4-ad45-4ba2-c208-6018f9e1ff6f"
      },
      "execution_count": null,
      "outputs": [
        {
          "output_type": "execute_result",
          "data": {
            "text/plain": [
              "(7561, 2)"
            ]
          },
          "metadata": {},
          "execution_count": 6
        }
      ]
    },
    {
      "cell_type": "code",
      "source": [
        "model = keras.Sequential([\n",
        "              # keras.layers.Reshape(target_shape=(2,), input_shape=(None,2)),\n",
        "              keras.layers.Dense(units=6, activation='linear'),\n",
        "              keras.layers.Dense(units=3, activation='linear'),\n",
        "              keras.layers.Dense(units=1, activation='linear'),\n",
        "                   ])\n",
        "    "
      ],
      "metadata": {
        "id": "p8oAUjIdvVJG"
      },
      "execution_count": null,
      "outputs": []
    },
    {
      "cell_type": "code",
      "source": [
        "model.compile(optimizer='adam', \n",
        "              loss = tf.losses.MeanSquaredError(),\n",
        "              metrics=['accuracy'])"
      ],
      "metadata": {
        "id": "Dphc1PESywDH"
      },
      "execution_count": null,
      "outputs": []
    },
    {
      "cell_type": "code",
      "source": [
        "history = model.fit(\n",
        "    train_x, \n",
        "    train_y,\n",
        "    epochs=25, \n",
        "    verbose = 2,\n",
        "    validation_split = 0.1\n",
        "   \n",
        ")"
      ],
      "metadata": {
        "id": "CCB7Qk4Hz7p2",
        "colab": {
          "base_uri": "https://localhost:8080/"
        },
        "outputId": "e9426726-be65-4c8b-93ac-12cab2ffb20f"
      },
      "execution_count": null,
      "outputs": [
        {
          "output_type": "stream",
          "name": "stdout",
          "text": [
            "Epoch 1/25\n",
            "213/213 - 1s - loss: 0.5684 - accuracy: 0.0000e+00 - val_loss: 0.1595 - val_accuracy: 0.0000e+00 - 895ms/epoch - 4ms/step\n",
            "Epoch 2/25\n",
            "213/213 - 0s - loss: 0.3247 - accuracy: 0.0000e+00 - val_loss: 0.1508 - val_accuracy: 0.0000e+00 - 376ms/epoch - 2ms/step\n",
            "Epoch 3/25\n",
            "213/213 - 0s - loss: 0.3246 - accuracy: 0.0000e+00 - val_loss: 0.1563 - val_accuracy: 0.0000e+00 - 345ms/epoch - 2ms/step\n",
            "Epoch 4/25\n",
            "213/213 - 0s - loss: 0.3248 - accuracy: 0.0000e+00 - val_loss: 0.1572 - val_accuracy: 0.0000e+00 - 349ms/epoch - 2ms/step\n",
            "Epoch 5/25\n",
            "213/213 - 0s - loss: 0.3247 - accuracy: 0.0000e+00 - val_loss: 0.1527 - val_accuracy: 0.0000e+00 - 355ms/epoch - 2ms/step\n",
            "Epoch 6/25\n",
            "213/213 - 0s - loss: 0.3247 - accuracy: 0.0000e+00 - val_loss: 0.1519 - val_accuracy: 0.0000e+00 - 310ms/epoch - 1ms/step\n",
            "Epoch 7/25\n",
            "213/213 - 0s - loss: 0.3253 - accuracy: 0.0000e+00 - val_loss: 0.1506 - val_accuracy: 0.0000e+00 - 314ms/epoch - 1ms/step\n",
            "Epoch 8/25\n",
            "213/213 - 0s - loss: 0.3248 - accuracy: 0.0000e+00 - val_loss: 0.1552 - val_accuracy: 0.0000e+00 - 387ms/epoch - 2ms/step\n",
            "Epoch 9/25\n",
            "213/213 - 0s - loss: 0.3247 - accuracy: 0.0000e+00 - val_loss: 0.1587 - val_accuracy: 0.0000e+00 - 353ms/epoch - 2ms/step\n",
            "Epoch 10/25\n",
            "213/213 - 0s - loss: 0.3247 - accuracy: 0.0000e+00 - val_loss: 0.1535 - val_accuracy: 0.0000e+00 - 308ms/epoch - 1ms/step\n",
            "Epoch 11/25\n",
            "213/213 - 0s - loss: 0.3247 - accuracy: 0.0000e+00 - val_loss: 0.1581 - val_accuracy: 0.0000e+00 - 342ms/epoch - 2ms/step\n",
            "Epoch 12/25\n",
            "213/213 - 0s - loss: 0.3250 - accuracy: 0.0000e+00 - val_loss: 0.1766 - val_accuracy: 0.0000e+00 - 377ms/epoch - 2ms/step\n",
            "Epoch 13/25\n",
            "213/213 - 0s - loss: 0.3245 - accuracy: 0.0000e+00 - val_loss: 0.1403 - val_accuracy: 0.0000e+00 - 337ms/epoch - 2ms/step\n",
            "Epoch 14/25\n",
            "213/213 - 0s - loss: 0.3252 - accuracy: 0.0000e+00 - val_loss: 0.1581 - val_accuracy: 0.0000e+00 - 350ms/epoch - 2ms/step\n",
            "Epoch 15/25\n",
            "213/213 - 0s - loss: 0.3249 - accuracy: 0.0000e+00 - val_loss: 0.1696 - val_accuracy: 0.0000e+00 - 346ms/epoch - 2ms/step\n",
            "Epoch 16/25\n",
            "213/213 - 0s - loss: 0.3244 - accuracy: 0.0000e+00 - val_loss: 0.1562 - val_accuracy: 0.0000e+00 - 364ms/epoch - 2ms/step\n",
            "Epoch 17/25\n",
            "213/213 - 0s - loss: 0.3251 - accuracy: 0.0000e+00 - val_loss: 0.1531 - val_accuracy: 0.0000e+00 - 369ms/epoch - 2ms/step\n",
            "Epoch 18/25\n",
            "213/213 - 0s - loss: 0.3245 - accuracy: 0.0000e+00 - val_loss: 0.1325 - val_accuracy: 0.0000e+00 - 355ms/epoch - 2ms/step\n",
            "Epoch 19/25\n",
            "213/213 - 0s - loss: 0.3247 - accuracy: 0.0000e+00 - val_loss: 0.1592 - val_accuracy: 0.0000e+00 - 375ms/epoch - 2ms/step\n",
            "Epoch 20/25\n",
            "213/213 - 0s - loss: 0.3249 - accuracy: 0.0000e+00 - val_loss: 0.1615 - val_accuracy: 0.0000e+00 - 351ms/epoch - 2ms/step\n",
            "Epoch 21/25\n",
            "213/213 - 0s - loss: 0.3249 - accuracy: 0.0000e+00 - val_loss: 0.1416 - val_accuracy: 0.0000e+00 - 317ms/epoch - 1ms/step\n",
            "Epoch 22/25\n",
            "213/213 - 0s - loss: 0.3250 - accuracy: 0.0000e+00 - val_loss: 0.1478 - val_accuracy: 0.0000e+00 - 334ms/epoch - 2ms/step\n",
            "Epoch 23/25\n",
            "213/213 - 0s - loss: 0.3253 - accuracy: 0.0000e+00 - val_loss: 0.1544 - val_accuracy: 0.0000e+00 - 360ms/epoch - 2ms/step\n",
            "Epoch 24/25\n",
            "213/213 - 0s - loss: 0.3256 - accuracy: 0.0000e+00 - val_loss: 0.1488 - val_accuracy: 0.0000e+00 - 318ms/epoch - 1ms/step\n",
            "Epoch 25/25\n",
            "213/213 - 0s - loss: 0.3248 - accuracy: 0.0000e+00 - val_loss: 0.1502 - val_accuracy: 0.0000e+00 - 399ms/epoch - 2ms/step\n"
          ]
        }
      ]
    },
    {
      "cell_type": "code",
      "source": [
        "Lay = []\n",
        "for layer in model.layers:\n",
        "    Lay.append(layer)"
      ],
      "metadata": {
        "id": "s34yrOCMOM-Q"
      },
      "execution_count": null,
      "outputs": []
    },
    {
      "cell_type": "code",
      "source": [
        "m2 = Lay[2].get_weights()\n",
        "m1 = Lay[1].get_weights()\n",
        "m0 = Lay[0].get_weights()"
      ],
      "metadata": {
        "id": "f3H8UYLlRsPo"
      },
      "execution_count": null,
      "outputs": []
    },
    {
      "cell_type": "code",
      "source": [
        "l0 = np.transpose(m0[0])\n",
        "l1 = np.transpose(m1[0])\n",
        "l2 = np.transpose(m2[0])"
      ],
      "metadata": {
        "id": "dUviRlDbWRn1"
      },
      "execution_count": null,
      "outputs": []
    },
    {
      "cell_type": "code",
      "source": [
        "b0 = np.transpose(m0[1])\n",
        "b1 = np.transpose(m1[1])\n",
        "b2 = np.transpose(m2[1])"
      ],
      "metadata": {
        "id": "7A0lP0vwXS4G"
      },
      "execution_count": null,
      "outputs": []
    },
    {
      "cell_type": "code",
      "source": [
        "input = np.array([[0.12],[0.1]])"
      ],
      "metadata": {
        "id": "hYvTYg-eYSxL"
      },
      "execution_count": null,
      "outputs": []
    },
    {
      "cell_type": "code",
      "source": [
        "s0 = np.dot(l0,input)\n"
      ],
      "metadata": {
        "id": "SfE4Gy7QYbNs"
      },
      "execution_count": null,
      "outputs": []
    },
    {
      "cell_type": "code",
      "source": [
        "for i in range(len(b0)):\n",
        "  s0[i] = s0[i] + b0[i]"
      ],
      "metadata": {
        "id": "LaoycS7HYuto"
      },
      "execution_count": null,
      "outputs": []
    },
    {
      "cell_type": "code",
      "source": [
        "s1 = np.dot(l1,s0)"
      ],
      "metadata": {
        "id": "WkhFwAp7arre"
      },
      "execution_count": null,
      "outputs": []
    },
    {
      "cell_type": "code",
      "source": [
        "for i in range(len(b1)):\n",
        "  s1[i] = s1[i] + b1[i]"
      ],
      "metadata": {
        "id": "-gksNIDVbuBa"
      },
      "execution_count": null,
      "outputs": []
    },
    {
      "cell_type": "code",
      "source": [
        "s2 = np.dot(l2,s1)"
      ],
      "metadata": {
        "id": "dvgBpt6kcjK3"
      },
      "execution_count": null,
      "outputs": []
    },
    {
      "cell_type": "code",
      "source": [
        "for i in range(len(b2)):\n",
        "  s2[i] = s2[i] + b2[i]"
      ],
      "metadata": {
        "id": "27-oX6Qrcn-f"
      },
      "execution_count": null,
      "outputs": []
    },
    {
      "cell_type": "code",
      "source": [
        "print(l0)"
      ],
      "metadata": {
        "colab": {
          "base_uri": "https://localhost:8080/"
        },
        "id": "ZjF6sH2GcviY",
        "outputId": "7c62f985-f353-415d-834b-39d77a22f4d4"
      },
      "execution_count": null,
      "outputs": [
        {
          "output_type": "stream",
          "name": "stdout",
          "text": [
            "[[ 0.42332685 -0.20222105]\n",
            " [-0.68782717  0.15276884]\n",
            " [-0.73504007  0.04829184]\n",
            " [-0.6999695  -0.38863742]\n",
            " [-0.15463851  0.11431317]\n",
            " [ 0.4975862   0.49425155]]\n"
          ]
        }
      ]
    },
    {
      "cell_type": "code",
      "source": [
        "print(l1)\n"
      ],
      "metadata": {
        "colab": {
          "base_uri": "https://localhost:8080/"
        },
        "id": "Z2T1ZD2DeZkC",
        "outputId": "4a23a4d1-7ef1-4bf9-d7c6-352090745477"
      },
      "execution_count": null,
      "outputs": [
        {
          "output_type": "stream",
          "name": "stdout",
          "text": [
            "[[ 0.24514021 -0.63441986 -0.8702627   0.653707    0.77872163  0.88055533]\n",
            " [-0.3653803   0.84004796  0.79240024  0.42975596  0.22249372 -0.18821959]\n",
            " [-0.23613094 -0.166874   -0.22761439 -0.13526174 -0.60490125  0.17999525]]\n"
          ]
        }
      ]
    },
    {
      "cell_type": "code",
      "source": [
        "print(l2)"
      ],
      "metadata": {
        "colab": {
          "base_uri": "https://localhost:8080/"
        },
        "id": "8GU_x52Mn8KE",
        "outputId": "2561cb84-eb0a-4d57-d4a3-a806bc71f83b"
      },
      "execution_count": null,
      "outputs": [
        {
          "output_type": "stream",
          "name": "stdout",
          "text": [
            "[[ 0.96543264 -0.6907096  -0.34969094]]\n"
          ]
        }
      ]
    },
    {
      "cell_type": "code",
      "source": [
        ""
      ],
      "metadata": {
        "id": "A-DOt7x6IuBy"
      },
      "execution_count": null,
      "outputs": []
    },
    {
      "cell_type": "code",
      "source": [
        "print(b0)"
      ],
      "metadata": {
        "colab": {
          "base_uri": "https://localhost:8080/"
        },
        "id": "WiuxaGGPoFu-",
        "outputId": "c678c3bd-2bce-4a71-ed44-7f3b25b2da8c"
      },
      "execution_count": null,
      "outputs": [
        {
          "output_type": "stream",
          "name": "stdout",
          "text": [
            "[ 0.12446024 -0.12310111 -0.12404072  0.1154175   0.12996078  0.12572351]\n"
          ]
        }
      ]
    },
    {
      "cell_type": "code",
      "source": [
        "print(b1)"
      ],
      "metadata": {
        "colab": {
          "base_uri": "https://localhost:8080/"
        },
        "id": "zlfwDhWDoIXu",
        "outputId": "361e6e97-7af4-471a-88e9-3ff35e17a910"
      },
      "execution_count": null,
      "outputs": [
        {
          "output_type": "stream",
          "name": "stdout",
          "text": [
            "[ 0.11932582 -0.12067153 -0.12048591]\n"
          ]
        }
      ]
    },
    {
      "cell_type": "code",
      "source": [
        "print(b2)"
      ],
      "metadata": {
        "colab": {
          "base_uri": "https://localhost:8080/"
        },
        "id": "1DoOfeqzoK4w",
        "outputId": "e4ce6ef3-f6bf-4c80-f138-8928aab7ba3c"
      },
      "execution_count": null,
      "outputs": [
        {
          "output_type": "stream",
          "name": "stdout",
          "text": [
            "[0.11629402]\n"
          ]
        }
      ]
    }
  ]
}